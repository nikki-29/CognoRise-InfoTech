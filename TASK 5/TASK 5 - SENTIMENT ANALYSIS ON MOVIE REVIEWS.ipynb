{
 "cells": [
  {
   "cell_type": "markdown",
   "id": "d09ad4a7",
   "metadata": {},
   "source": [
    "## TASK 5 : SENTIMENT ANALYSIS ON MOVIE REVIEWS"
   ]
  },
  {
   "cell_type": "markdown",
   "id": "05eb01dc",
   "metadata": {},
   "source": [
    "### Algorithm: Naive Bayes Classifier, Random Forest Classifier, K-Nearest Neighbors (KNN), xgboosting classifier,logistic Regression, Decision Tree Classifier,\n",
    "### Description: Perform sentiment analysis on movie reviews to determine if the sentiment is positive or negative."
   ]
  },
  {
   "cell_type": "markdown",
   "id": "0f5d8c67",
   "metadata": {},
   "source": [
    "#### Importing necessary libraries"
   ]
  },
  {
   "cell_type": "code",
   "execution_count": 1,
   "id": "a9a8b2bf",
   "metadata": {},
   "outputs": [],
   "source": [
    "import numpy as np\n",
    "import pandas as pd\n",
    "import matplotlib.pyplot as plt\n",
    "import seaborn as sns\n",
    "from sklearn.model_selection import train_test_split\n",
    "from sklearn.feature_extraction.text import CountVectorizer, TfidfTransformer\n",
    "from sklearn.pipeline import Pipeline\n",
    "from sklearn.naive_bayes import MultinomialNB\n",
    "from sklearn.ensemble import RandomForestClassifier\n",
    "from sklearn.neighbors import KNeighborsClassifier\n",
    "from xgboost import XGBClassifier\n",
    "from sklearn.linear_model import LogisticRegression\n",
    "from sklearn.tree import DecisionTreeClassifier\n",
    "from sklearn.metrics import accuracy_score, classification_report, confusion_matrix"
   ]
  },
  {
   "cell_type": "markdown",
   "id": "ef3d5f39",
   "metadata": {},
   "source": [
    "#### Step 1: Read the data"
   ]
  },
  {
   "cell_type": "code",
   "execution_count": 2,
   "id": "6577c30f",
   "metadata": {},
   "outputs": [],
   "source": [
    "data = pd.read_csv(\"C:/Users/HP/Downloads/movie_reviews.csv\")"
   ]
  },
  {
   "cell_type": "markdown",
   "id": "aeaf74e4",
   "metadata": {},
   "source": [
    "#### Step 2: Data analysis and preprocessing"
   ]
  },
  {
   "cell_type": "code",
   "execution_count": 3,
   "id": "7cd5d15b",
   "metadata": {},
   "outputs": [
    {
     "name": "stdout",
     "output_type": "stream",
     "text": [
      "Data Analysis:\n"
     ]
    }
   ],
   "source": [
    "print(\"Data Analysis:\")"
   ]
  },
  {
   "cell_type": "code",
   "execution_count": 4,
   "id": "4897b77e",
   "metadata": {},
   "outputs": [
    {
     "name": "stdout",
     "output_type": "stream",
     "text": [
      "                                              review sentiment\n",
      "0  One of the other reviewers has mentioned that ...  positive\n",
      "1  A wonderful little production. <br /><br />The...  positive\n",
      "2  I thought this was a wonderful way to spend ti...  positive\n",
      "3  Basically there's a family where a little boy ...  negative\n",
      "4  Petter Mattei's \"Love in the Time of Money\" is...  positive\n"
     ]
    }
   ],
   "source": [
    "print(data.head())  # View the first few rows of data"
   ]
  },
  {
   "cell_type": "code",
   "execution_count": 5,
   "id": "29df7410",
   "metadata": {},
   "outputs": [
    {
     "name": "stdout",
     "output_type": "stream",
     "text": [
      "<class 'pandas.core.frame.DataFrame'>\n",
      "RangeIndex: 50000 entries, 0 to 49999\n",
      "Data columns (total 2 columns):\n",
      " #   Column     Non-Null Count  Dtype \n",
      "---  ------     --------------  ----- \n",
      " 0   review     50000 non-null  object\n",
      " 1   sentiment  50000 non-null  object\n",
      "dtypes: object(2)\n",
      "memory usage: 781.4+ KB\n",
      "None\n"
     ]
    }
   ],
   "source": [
    "print(data.info())  # Get data info"
   ]
  },
  {
   "cell_type": "markdown",
   "id": "633d6d1a",
   "metadata": {},
   "source": [
    "#### Check for missing values"
   ]
  },
  {
   "cell_type": "code",
   "execution_count": 6,
   "id": "2f824f6f",
   "metadata": {},
   "outputs": [
    {
     "name": "stdout",
     "output_type": "stream",
     "text": [
      "Missing Values:\n",
      "review       0\n",
      "sentiment    0\n",
      "dtype: int64\n"
     ]
    }
   ],
   "source": [
    "print(\"Missing Values:\")\n",
    "print(data.isnull().sum())"
   ]
  },
  {
   "cell_type": "markdown",
   "id": "af3384cd",
   "metadata": {},
   "source": [
    "#### Visualize class distribution"
   ]
  },
  {
   "cell_type": "code",
   "execution_count": 7,
   "id": "5f777855",
   "metadata": {},
   "outputs": [
    {
     "name": "stdout",
     "output_type": "stream",
     "text": [
      "Percentage of Positive Sentiments: 50.0\n",
      "Percentage of Negative Sentiments: 50.0\n"
     ]
    }
   ],
   "source": [
    "# Count occurrences of each sentiment\n",
    "sentiment_counts = data['sentiment'].value_counts()\n",
    "\n",
    "# Calculate percentages\n",
    "total_samples = len(data)\n",
    "positive_percentage = (sentiment_counts['positive'] / total_samples) * 100\n",
    "negative_percentage = (sentiment_counts['negative'] / total_samples) * 100\n",
    "\n",
    "# Print percentages\n",
    "print(\"Percentage of Positive Sentiments:\", positive_percentage)\n",
    "print(\"Percentage of Negative Sentiments:\", negative_percentage)"
   ]
  },
  {
   "cell_type": "code",
   "execution_count": 8,
   "id": "96054a35",
   "metadata": {},
   "outputs": [
    {
     "name": "stderr",
     "output_type": "stream",
     "text": [
      "C:\\Users\\HP\\anaconda3\\lib\\site-packages\\seaborn\\_decorators.py:36: FutureWarning: Pass the following variable as a keyword arg: x. From version 0.12, the only valid positional argument will be `data`, and passing other arguments without an explicit keyword will result in an error or misinterpretation.\n",
      "  warnings.warn(\n"
     ]
    },
    {
     "data": {
      "image/png": "[encoded data removed]",
      "text/plain": [
       "<Figure size 432x288 with 1 Axes>"
      ]
     },
     "metadata": {
      "needs_background": "light"
     },
     "output_type": "display_data"
    }
   ],
   "source": [
    "sns.countplot(data['sentiment'])\n",
    "plt.title('Class Distribution')\n",
    "plt.xlabel('Sentiment')\n",
    "plt.ylabel('Count')\n",
    "plt.show()"
   ]
  },
  {
   "cell_type": "markdown",
   "id": "fecfb89b",
   "metadata": {},
   "source": [
    "#### Step 3: Preprocessing"
   ]
  },
  {
   "cell_type": "markdown",
   "id": "4a6c046f",
   "metadata": {},
   "source": [
    "#### No specific preprocessing needed as we'll use CountVectorizer and TfidfTransformer in the pipeline"
   ]
  },
  {
   "cell_type": "markdown",
   "id": "e946f9e4",
   "metadata": {},
   "source": [
    "#### Step 4: Feature extraction"
   ]
  },
  {
   "cell_type": "code",
   "execution_count": 9,
   "id": "a9e7b67b",
   "metadata": {},
   "outputs": [],
   "source": [
    "X = data['review']\n",
    "y = data['sentiment']"
   ]
  },
  {
   "cell_type": "markdown",
   "id": "56738a7c",
   "metadata": {},
   "source": [
    "#### Step 5: Splitting data into train and test sets"
   ]
  },
  {
   "cell_type": "code",
   "execution_count": 10,
   "id": "d183799a",
   "metadata": {},
   "outputs": [],
   "source": [
    "X_train, X_test, y_train, y_test = train_test_split(X, y, test_size=0.2, random_state=42)"
   ]
  },
  {
   "cell_type": "markdown",
   "id": "0d37b59c",
   "metadata": {},
   "source": [
    "#### Step 6: Model Training and Evaluation"
   ]
  },
  {
   "cell_type": "markdown",
   "id": "82c1b518",
   "metadata": {},
   "source": [
    "#### Naive Bayes Classifier"
   ]
  },
  {
   "cell_type": "code",
   "execution_count": 11,
   "id": "abe36cd8",
   "metadata": {},
   "outputs": [
    {
     "name": "stdout",
     "output_type": "stream",
     "text": [
      "Training Naive Bayes Classifier...\n",
      "Naive Bayes Accuracy: 0.8635\n",
      "Classification Report for Naive Bayes:\n",
      "              precision    recall  f1-score   support\n",
      "\n",
      "    negative       0.84      0.89      0.87      4961\n",
      "    positive       0.88      0.84      0.86      5039\n",
      "\n",
      "    accuracy                           0.86     10000\n",
      "   macro avg       0.86      0.86      0.86     10000\n",
      "weighted avg       0.86      0.86      0.86     10000\n",
      "\n",
      "Confusion Matrix for Naive Bayes:\n",
      "[[4405  556]\n",
      " [ 809 4230]]\n"
     ]
    }
   ],
   "source": [
    "# Create Naive Bayes model\n",
    "nb_model = MultinomialNB()\n",
    "\n",
    "# Create pipeline with CountVectorizer, TfidfTransformer, and the model\n",
    "nb_pipeline = Pipeline([\n",
    "    ('vect', CountVectorizer()),\n",
    "    ('tfidf', TfidfTransformer()),\n",
    "    ('clf', nb_model)\n",
    "])\n",
    "\n",
    "# Train the model\n",
    "print(\"Training Naive Bayes Classifier...\")\n",
    "nb_pipeline.fit(X_train, y_train)\n",
    "\n",
    "# Predictions\n",
    "nb_predictions = nb_pipeline.predict(X_test)\n",
    "\n",
    "# Evaluation\n",
    "nb_accuracy = accuracy_score(y_test, nb_predictions)\n",
    "print(\"Naive Bayes Accuracy:\", nb_accuracy)\n",
    "print(\"Classification Report for Naive Bayes:\")\n",
    "print(classification_report(y_test, nb_predictions))\n",
    "print(\"Confusion Matrix for Naive Bayes:\")\n",
    "print(confusion_matrix(y_test, nb_predictions))"
   ]
  },
  {
   "cell_type": "markdown",
   "id": "903360f2",
   "metadata": {},
   "source": [
    "#### Random Forest Classifier"
   ]
  },
  {
   "cell_type": "code",
   "execution_count": 12,
   "id": "4cc968a7",
   "metadata": {},
   "outputs": [
    {
     "name": "stdout",
     "output_type": "stream",
     "text": [
      "\n",
      "Training Random Forest Classifier...\n",
      "Random Forest Accuracy: 0.8469\n",
      "Classification Report for Random Forest:\n",
      "              precision    recall  f1-score   support\n",
      "\n",
      "    negative       0.84      0.85      0.85      4961\n",
      "    positive       0.85      0.84      0.85      5039\n",
      "\n",
      "    accuracy                           0.85     10000\n",
      "   macro avg       0.85      0.85      0.85     10000\n",
      "weighted avg       0.85      0.85      0.85     10000\n",
      "\n",
      "Confusion Matrix for Random Forest:\n",
      "[[4232  729]\n",
      " [ 802 4237]]\n"
     ]
    }
   ],
   "source": [
    "# Create Random Forest model\n",
    "rf_model = RandomForestClassifier()\n",
    "\n",
    "# Create pipeline with CountVectorizer, TfidfTransformer, and the model\n",
    "rf_pipeline = Pipeline([\n",
    "    ('vect', CountVectorizer()),\n",
    "    ('tfidf', TfidfTransformer()),\n",
    "    ('clf', rf_model)\n",
    "])\n",
    "\n",
    "# Train the model\n",
    "print(\"\\nTraining Random Forest Classifier...\")\n",
    "rf_pipeline.fit(X_train, y_train)\n",
    "\n",
    "# Predictions\n",
    "rf_predictions = rf_pipeline.predict(X_test)\n",
    "\n",
    "# Evaluation\n",
    "rf_accuracy = accuracy_score(y_test, rf_predictions)\n",
    "print(\"Random Forest Accuracy:\", rf_accuracy)\n",
    "print(\"Classification Report for Random Forest:\")\n",
    "print(classification_report(y_test, rf_predictions))\n",
    "print(\"Confusion Matrix for Random Forest:\")\n",
    "print(confusion_matrix(y_test, rf_predictions))"
   ]
  },
  {
   "cell_type": "markdown",
   "id": "6c6d43d2",
   "metadata": {},
   "source": [
    "#### K-Nearest Neighbors (KNN)"
   ]
  },
  {
   "cell_type": "code",
   "execution_count": 13,
   "id": "3152eeed",
   "metadata": {},
   "outputs": [
    {
     "name": "stdout",
     "output_type": "stream",
     "text": [
      "\n",
      "Training K-Nearest Neighbors (KNN)...\n",
      "KNN Accuracy: 0.769\n",
      "Classification Report for KNN:\n",
      "              precision    recall  f1-score   support\n",
      "\n",
      "    negative       0.79      0.73      0.76      4961\n",
      "    positive       0.75      0.81      0.78      5039\n",
      "\n",
      "    accuracy                           0.77     10000\n",
      "   macro avg       0.77      0.77      0.77     10000\n",
      "weighted avg       0.77      0.77      0.77     10000\n",
      "\n",
      "Confusion Matrix for KNN:\n",
      "[[3620 1341]\n",
      " [ 969 4070]]\n"
     ]
    }
   ],
   "source": [
    "# Create KNN model\n",
    "knn_model = KNeighborsClassifier()\n",
    "\n",
    "# Create pipeline with CountVectorizer, TfidfTransformer, and the model\n",
    "knn_pipeline = Pipeline([\n",
    "    ('vect', CountVectorizer()),\n",
    "    ('tfidf', TfidfTransformer()),\n",
    "    ('clf', knn_model)\n",
    "])\n",
    "\n",
    "# Train the model\n",
    "print(\"\\nTraining K-Nearest Neighbors (KNN)...\")\n",
    "knn_pipeline.fit(X_train, y_train)\n",
    "\n",
    "# Predictions\n",
    "knn_predictions = knn_pipeline.predict(X_test)\n",
    "\n",
    "# Evaluation\n",
    "knn_accuracy = accuracy_score(y_test, knn_predictions)\n",
    "print(\"KNN Accuracy:\", knn_accuracy)\n",
    "print(\"Classification Report for KNN:\")\n",
    "print(classification_report(y_test, knn_predictions))\n",
    "print(\"Confusion Matrix for KNN:\")\n",
    "print(confusion_matrix(y_test, knn_predictions))"
   ]
  },
  {
   "cell_type": "markdown",
   "id": "7dfb31d5",
   "metadata": {},
   "source": [
    "#### Logistic Regression"
   ]
  },
  {
   "cell_type": "code",
   "execution_count": 15,
   "id": "844e4297",
   "metadata": {},
   "outputs": [
    {
     "name": "stdout",
     "output_type": "stream",
     "text": [
      "\n",
      "Training Logistic Regression...\n"
     ]
    },
    {
     "name": "stderr",
     "output_type": "stream",
     "text": [
      "C:\\Users\\HP\\anaconda3\\lib\\site-packages\\sklearn\\linear_model\\_logistic.py:444: ConvergenceWarning: lbfgs failed to converge (status=1):\n",
      "STOP: TOTAL NO. of ITERATIONS REACHED LIMIT.\n",
      "\n",
      "Increase the number of iterations (max_iter) or scale the data as shown in:\n",
      "    https://scikit-learn.org/stable/modules/preprocessing.html\n",
      "Please also refer to the documentation for alternative solver options:\n",
      "    https://scikit-learn.org/stable/modules/linear_model.html#logistic-regression\n",
      "  n_iter_i = _check_optimize_result(\n"
     ]
    },
    {
     "name": "stdout",
     "output_type": "stream",
     "text": [
      "Logistic Regression Accuracy: 0.9002\n",
      "Classification Report for Logistic Regression:\n",
      "              precision    recall  f1-score   support\n",
      "\n",
      "    negative       0.91      0.89      0.90      4961\n",
      "    positive       0.89      0.91      0.90      5039\n",
      "\n",
      "    accuracy                           0.90     10000\n",
      "   macro avg       0.90      0.90      0.90     10000\n",
      "weighted avg       0.90      0.90      0.90     10000\n",
      "\n",
      "Confusion Matrix for Logistic Regression:\n",
      "[[4403  558]\n",
      " [ 440 4599]]\n"
     ]
    }
   ],
   "source": [
    "# Create Logistic Regression model\n",
    "logistic_model = LogisticRegression()\n",
    "\n",
    "# Create pipeline with CountVectorizer, TfidfTransformer, and the model\n",
    "logistic_pipeline = Pipeline([\n",
    "    ('vect', CountVectorizer()),\n",
    "    ('tfidf', TfidfTransformer()),\n",
    "    ('clf', logistic_model)\n",
    "])\n",
    "\n",
    "# Train the model\n",
    "print(\"\\nTraining Logistic Regression...\")\n",
    "logistic_pipeline.fit(X_train, y_train)\n",
    "\n",
    "# Predictions\n",
    "logistic_predictions = logistic_pipeline.predict(X_test)\n",
    "\n",
    "# Evaluation\n",
    "logistic_accuracy = accuracy_score(y_test, logistic_predictions)\n",
    "print(\"Logistic Regression Accuracy:\", logistic_accuracy)\n",
    "print(\"Classification Report for Logistic Regression:\")\n",
    "print(classification_report(y_test, logistic_predictions))\n",
    "print(\"Confusion Matrix for Logistic Regression:\")\n",
    "print(confusion_matrix(y_test, logistic_predictions))"
   ]
  },
  {
   "cell_type": "markdown",
   "id": "f0cd6c4a",
   "metadata": {},
   "source": [
    "#### Decision Tree Classifier"
   ]
  },
  {
   "cell_type": "code",
   "execution_count": 16,
   "id": "69b02b7a",
   "metadata": {},
   "outputs": [
    {
     "name": "stdout",
     "output_type": "stream",
     "text": [
      "\n",
      "Training Decision Tree Classifier...\n",
      "Decision Tree Accuracy: 0.7242\n",
      "Classification Report for Decision Tree:\n",
      "              precision    recall  f1-score   support\n",
      "\n",
      "    negative       0.72      0.72      0.72      4961\n",
      "    positive       0.73      0.73      0.73      5039\n",
      "\n",
      "    accuracy                           0.72     10000\n",
      "   macro avg       0.72      0.72      0.72     10000\n",
      "weighted avg       0.72      0.72      0.72     10000\n",
      "\n",
      "Confusion Matrix for Decision Tree:\n",
      "[[3574 1387]\n",
      " [1371 3668]]\n"
     ]
    }
   ],
   "source": [
    "# Create Decision Tree model\n",
    "dt_model = DecisionTreeClassifier()\n",
    "\n",
    "# Create pipeline with CountVectorizer, TfidfTransformer, and the model\n",
    "dt_pipeline = Pipeline([\n",
    "    ('vect', CountVectorizer()),\n",
    "    ('tfidf', TfidfTransformer()),\n",
    "    ('clf', dt_model)\n",
    "])\n",
    "\n",
    "# Train the model\n",
    "print(\"\\nTraining Decision Tree Classifier...\")\n",
    "dt_pipeline.fit(X_train, y_train)\n",
    "\n",
    "# Predictions\n",
    "dt_predictions = dt_pipeline.predict(X_test)\n",
    "\n",
    "# Evaluation\n",
    "dt_accuracy = accuracy_score(y_test, dt_predictions)\n",
    "print(\"Decision Tree Accuracy:\", dt_accuracy)\n",
    "print(\"Classification Report for Decision Tree:\")\n",
    "print(classification_report(y_test, dt_predictions))\n",
    "print(\"Confusion Matrix for Decision Tree:\")\n",
    "print(confusion_matrix(y_test, dt_predictions))"
   ]
  },
  {
   "cell_type": "markdown",
   "id": "64ed7d58",
   "metadata": {},
   "source": [
    "#### Step 7: Visualization of Results"
   ]
  },
  {
   "cell_type": "markdown",
   "id": "a469eefa",
   "metadata": {},
   "source": [
    "#### Visualizing Confusion Matrix for each model"
   ]
  },
  {
   "cell_type": "code",
   "execution_count": 17,
   "id": "bbc9902f",
   "metadata": {},
   "outputs": [
    {
     "data": {
      "text/plain": [
       "<Figure size 1080x864 with 0 Axes>"
      ]
     },
     "execution_count": 17,
     "metadata": {},
     "output_type": "execute_result"
    },
    {
     "data": {
      "text/plain": [
       "<Figure size 1080x864 with 0 Axes>"
      ]
     },
     "metadata": {},
     "output_type": "display_data"
    }
   ],
   "source": [
    "plt.figure(figsize=(15, 12))"
   ]
  },
  {
   "cell_type": "markdown",
   "id": "a863c7ab",
   "metadata": {},
   "source": [
    "#### Naive Bayes"
   ]
  },
  {
   "cell_type": "code",
   "execution_count": 18,
   "id": "f5854c0d",
   "metadata": {},
   "outputs": [
    {
     "data": {
      "text/plain": [
       "Text(33.0, 0.5, 'True Label')"
      ]
     },
     "execution_count": 18,
     "metadata": {},
     "output_type": "execute_result"
    },
    {
     "data": {
      "image/png": "[encoded data removed]",
      "text/plain": [
       "<Figure size 432x288 with 1 Axes>"
      ]
     },
     "metadata": {
      "needs_background": "light"
     },
     "output_type": "display_data"
    }
   ],
   "source": [
    "plt.subplot(3, 3, 1)\n",
    "sns.heatmap(confusion_matrix(y_test, nb_predictions), annot=True, fmt='d', cmap='Blues', cbar=False,\n",
    "            xticklabels=['Negative', 'Positive'], yticklabels=['Negative', 'Positive'])\n",
    "plt.title('Confusion Matrix - Naive Bayes')\n",
    "plt.xlabel('Predicted Label')\n",
    "plt.ylabel('True Label')"
   ]
  },
  {
   "cell_type": "markdown",
   "id": "3c1047f9",
   "metadata": {},
   "source": [
    "#### Random Forest"
   ]
  },
  {
   "cell_type": "code",
   "execution_count": 19,
   "id": "af49c5c1",
   "metadata": {},
   "outputs": [
    {
     "data": {
      "text/plain": [
       "Text(151.16470588235296, 0.5, 'True Label')"
      ]
     },
     "execution_count": 19,
     "metadata": {},
     "output_type": "execute_result"
    },
    {
     "data": {
      "image/png": "[encoded data removed]",
      "text/plain": [
       "<Figure size 432x288 with 1 Axes>"
      ]
     },
     "metadata": {
      "needs_background": "light"
     },
     "output_type": "display_data"
    }
   ],
   "source": [
    "plt.subplot(3, 3, 2)\n",
    "sns.heatmap(confusion_matrix(y_test, rf_predictions), annot=True, fmt='d', cmap='Blues', cbar=False,\n",
    "            xticklabels=['Negative', 'Positive'], yticklabels=['Negative', 'Positive'])\n",
    "plt.title('Confusion Matrix - Random Forest')\n",
    "plt.xlabel('Predicted Label')\n",
    "plt.ylabel('True Label')"
   ]
  },
  {
   "cell_type": "markdown",
   "id": "c345ec3d",
   "metadata": {},
   "source": [
    "#### KNN"
   ]
  },
  {
   "cell_type": "code",
   "execution_count": 20,
   "id": "110b74a7",
   "metadata": {},
   "outputs": [
    {
     "data": {
      "text/plain": [
       "Text(269.3294117647059, 0.5, 'True Label')"
      ]
     },
     "execution_count": 20,
     "metadata": {},
     "output_type": "execute_result"
    },
    {
     "data": {
      "image/png": "[encoded data removed]",
      "text/plain": [
       "<Figure size 432x288 with 1 Axes>"
      ]
     },
     "metadata": {
      "needs_background": "light"
     },
     "output_type": "display_data"
    }
   ],
   "source": [
    "plt.subplot(3, 3, 3)\n",
    "sns.heatmap(confusion_matrix(y_test, knn_predictions), annot=True, fmt='d', cmap='Blues', cbar=False,\n",
    "            xticklabels=['Negative', 'Positive'], yticklabels=['Negative', 'Positive'])\n",
    "plt.title('Confusion Matrix - KNN')\n",
    "plt.xlabel('Predicted Label')\n",
    "plt.ylabel('True Label')"
   ]
  },
  {
   "cell_type": "markdown",
   "id": "fbf4cf7b",
   "metadata": {},
   "source": [
    "#### Logistic Regression"
   ]
  },
  {
   "cell_type": "code",
   "execution_count": 22,
   "id": "e27671d5",
   "metadata": {},
   "outputs": [
    {
     "data": {
      "text/plain": [
       "Text(151.16470588235296, 0.5, 'True Label')"
      ]
     },
     "execution_count": 22,
     "metadata": {},
     "output_type": "execute_result"
    },
    {
     "data": {
      "image/png": "[encoded data removed]",
      "text/plain": [
       "<Figure size 432x288 with 1 Axes>"
      ]
     },
     "metadata": {
      "needs_background": "light"
     },
     "output_type": "display_data"
    }
   ],
   "source": [
    "plt.subplot(3, 3, 5)\n",
    "sns.heatmap(confusion_matrix(y_test, logistic_predictions), annot=True, fmt='d', cmap='Blues', cbar=False,\n",
    "            xticklabels=['Negative', 'Positive'], yticklabels=['Negative', 'Positive'])\n",
    "plt.title('Confusion Matrix - Logistic Regression')\n",
    "plt.xlabel('Predicted Label')\n",
    "plt.ylabel('True Label')"
   ]
  },
  {
   "cell_type": "markdown",
   "id": "ea6b7e79",
   "metadata": {},
   "source": [
    "#### Decision Tree"
   ]
  },
  {
   "cell_type": "code",
   "execution_count": 23,
   "id": "e1d79ce1",
   "metadata": {},
   "outputs": [
    {
     "data": {
      "image/png": "[encoded data removed]",
      "text/plain": [
       "<Figure size 432x288 with 1 Axes>"
      ]
     },
     "metadata": {
      "needs_background": "light"
     },
     "output_type": "display_data"
    }
   ],
   "source": [
    "plt.subplot(3, 3, 6)\n",
    "sns.heatmap(confusion_matrix(y_test, dt_predictions), annot=True, fmt='d', cmap='Blues', cbar=False,\n",
    "            xticklabels=['Negative', 'Positive'], yticklabels=['Negative', 'Positive'])\n",
    "plt.title('Confusion Matrix - Decision Tree')\n",
    "plt.xlabel('Predicted Label')\n",
    "plt.ylabel('True Label')\n",
    "\n",
    "plt.tight_layout()\n",
    "plt.show()"
   ]
  },
  {
   "cell_type": "code",
   "execution_count": null,
   "id": "d0758e75",
   "metadata": {},
   "outputs": [],
   "source": []
  },
  {
   "cell_type": "code",
   "execution_count": null,
   "id": "0ebe861c",
   "metadata": {},
   "outputs": [],
   "source": []
  },
  {
   "cell_type": "code",
   "execution_count": null,
   "id": "4b7fbfbf",
   "metadata": {},
   "outputs": [],
   "source": []
  },
  {
   "cell_type": "code",
   "execution_count": null,
   "id": "6ec293d1",
   "metadata": {},
   "outputs": [],
   "source": []
  }
 ],
 "metadata": {
  "kernelspec": {
   "display_name": "Python 3",
   "language": "python",
   "name": "python3"
  },
  "language_info": {
   "codemirror_mode": {
    "name": "ipython",
    "version": 3
   },
   "file_extension": ".py",
   "mimetype": "text/x-python",
   "name": "python",
   "nbconvert_exporter": "python",
   "pygments_lexer": "ipython3",
   "version": "3.8.8"
  }
 },
 "nbformat": 4,
 "nbformat_minor": 5
}
